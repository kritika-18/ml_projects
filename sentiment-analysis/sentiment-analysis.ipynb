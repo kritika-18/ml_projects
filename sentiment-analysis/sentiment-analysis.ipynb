{
 "cells": [
  {
   "cell_type": "markdown",
   "id": "1b570be9",
   "metadata": {},
   "source": [
    "# Sentiment Analysis"
   ]
  },
  {
   "cell_type": "markdown",
   "id": "b316f7f1",
   "metadata": {},
   "source": [
    "Importing required libraries and reading the dataset"
   ]
  },
  {
   "cell_type": "code",
   "execution_count": 2,
   "id": "78dd5f0b",
   "metadata": {},
   "outputs": [],
   "source": [
    "import pandas as pd\n",
    "import numpy as np\n",
    "from sklearn.preprocessing import LabelEncoder\n",
    "from sklearn.model_selection import train_test_split\n",
    "from sklearn.feature_extraction.text import CountVectorizer\n",
    "from sklearn.naive_bayes import MultinomialNB\n",
    "from sklearn.neighbors import KNeighborsClassifier\n",
    "from sklearn.ensemble import RandomForestClassifier\n",
    "from sklearn import tree\n",
    "from sklearn.linear_model import LogisticRegression\n",
    "from sklearn.svm import SVC\n"
   ]
  },
  {
   "cell_type": "code",
   "execution_count": 3,
   "id": "b3154bae",
   "metadata": {},
   "outputs": [
    {
     "name": "stdout",
     "output_type": "stream",
     "text": [
      "                                              review sentiment\n",
      "0  One of the other reviewers has mentioned that ...  positive\n",
      "1  A wonderful little production. <br /><br />The...  positive\n",
      "2  I thought this was a wonderful way to spend ti...  positive\n",
      "3  Basically there's a family where a little boy ...  negative\n",
      "4  Petter Mattei's \"Love in the Time of Money\" is...  positive\n",
      "5  Probably my all-time favorite movie, a story o...  positive\n",
      "6  I sure would like to see a resurrection of a u...  positive\n",
      "7  This show was an amazing, fresh & innovative i...  negative\n",
      "8  Encouraged by the positive comments about this...  negative\n",
      "9  If you like original gut wrenching laughter yo...  positive\n"
     ]
    }
   ],
   "source": [
    "df=pd.read_csv(r'C:\\Users\\kriti\\Downloads\\IMDB Dataset.csv\\IMDB Dataset.csv')\n",
    "print(df.head(10))"
   ]
  },
  {
   "cell_type": "code",
   "execution_count": 4,
   "id": "99dd330a",
   "metadata": {},
   "outputs": [
    {
     "data": {
      "text/html": [
       "<div>\n",
       "<style scoped>\n",
       "    .dataframe tbody tr th:only-of-type {\n",
       "        vertical-align: middle;\n",
       "    }\n",
       "\n",
       "    .dataframe tbody tr th {\n",
       "        vertical-align: top;\n",
       "    }\n",
       "\n",
       "    .dataframe thead th {\n",
       "        text-align: right;\n",
       "    }\n",
       "</style>\n",
       "<table border=\"1\" class=\"dataframe\">\n",
       "  <thead>\n",
       "    <tr style=\"text-align: right;\">\n",
       "      <th></th>\n",
       "      <th>review</th>\n",
       "      <th>sentiment</th>\n",
       "      <th>sentiment_num</th>\n",
       "    </tr>\n",
       "  </thead>\n",
       "  <tbody>\n",
       "    <tr>\n",
       "      <th>0</th>\n",
       "      <td>One of the other reviewers has mentioned that ...</td>\n",
       "      <td>positive</td>\n",
       "      <td>1</td>\n",
       "    </tr>\n",
       "    <tr>\n",
       "      <th>1</th>\n",
       "      <td>A wonderful little production. &lt;br /&gt;&lt;br /&gt;The...</td>\n",
       "      <td>positive</td>\n",
       "      <td>1</td>\n",
       "    </tr>\n",
       "    <tr>\n",
       "      <th>2</th>\n",
       "      <td>I thought this was a wonderful way to spend ti...</td>\n",
       "      <td>positive</td>\n",
       "      <td>1</td>\n",
       "    </tr>\n",
       "    <tr>\n",
       "      <th>3</th>\n",
       "      <td>Basically there's a family where a little boy ...</td>\n",
       "      <td>negative</td>\n",
       "      <td>0</td>\n",
       "    </tr>\n",
       "    <tr>\n",
       "      <th>4</th>\n",
       "      <td>Petter Mattei's \"Love in the Time of Money\" is...</td>\n",
       "      <td>positive</td>\n",
       "      <td>1</td>\n",
       "    </tr>\n",
       "    <tr>\n",
       "      <th>5</th>\n",
       "      <td>Probably my all-time favorite movie, a story o...</td>\n",
       "      <td>positive</td>\n",
       "      <td>1</td>\n",
       "    </tr>\n",
       "    <tr>\n",
       "      <th>6</th>\n",
       "      <td>I sure would like to see a resurrection of a u...</td>\n",
       "      <td>positive</td>\n",
       "      <td>1</td>\n",
       "    </tr>\n",
       "    <tr>\n",
       "      <th>7</th>\n",
       "      <td>This show was an amazing, fresh &amp; innovative i...</td>\n",
       "      <td>negative</td>\n",
       "      <td>0</td>\n",
       "    </tr>\n",
       "    <tr>\n",
       "      <th>8</th>\n",
       "      <td>Encouraged by the positive comments about this...</td>\n",
       "      <td>negative</td>\n",
       "      <td>0</td>\n",
       "    </tr>\n",
       "    <tr>\n",
       "      <th>9</th>\n",
       "      <td>If you like original gut wrenching laughter yo...</td>\n",
       "      <td>positive</td>\n",
       "      <td>1</td>\n",
       "    </tr>\n",
       "  </tbody>\n",
       "</table>\n",
       "</div>"
      ],
      "text/plain": [
       "                                              review sentiment  sentiment_num\n",
       "0  One of the other reviewers has mentioned that ...  positive              1\n",
       "1  A wonderful little production. <br /><br />The...  positive              1\n",
       "2  I thought this was a wonderful way to spend ti...  positive              1\n",
       "3  Basically there's a family where a little boy ...  negative              0\n",
       "4  Petter Mattei's \"Love in the Time of Money\" is...  positive              1\n",
       "5  Probably my all-time favorite movie, a story o...  positive              1\n",
       "6  I sure would like to see a resurrection of a u...  positive              1\n",
       "7  This show was an amazing, fresh & innovative i...  negative              0\n",
       "8  Encouraged by the positive comments about this...  negative              0\n",
       "9  If you like original gut wrenching laughter yo...  positive              1"
      ]
     },
     "execution_count": 4,
     "metadata": {},
     "output_type": "execute_result"
    }
   ],
   "source": [
    "sentiment=LabelEncoder()\n",
    "df['sentiment_num']=sentiment.fit_transform(df['sentiment'])\n",
    "df.head(10)"
   ]
  },
  {
   "cell_type": "code",
   "execution_count": 5,
   "id": "125fec1e",
   "metadata": {},
   "outputs": [
    {
     "data": {
      "text/html": [
       "<div>\n",
       "<style scoped>\n",
       "    .dataframe tbody tr th:only-of-type {\n",
       "        vertical-align: middle;\n",
       "    }\n",
       "\n",
       "    .dataframe tbody tr th {\n",
       "        vertical-align: top;\n",
       "    }\n",
       "\n",
       "    .dataframe thead th {\n",
       "        text-align: right;\n",
       "    }\n",
       "</style>\n",
       "<table border=\"1\" class=\"dataframe\">\n",
       "  <thead>\n",
       "    <tr style=\"text-align: right;\">\n",
       "      <th></th>\n",
       "      <th>review</th>\n",
       "      <th>sentiment_num</th>\n",
       "    </tr>\n",
       "  </thead>\n",
       "  <tbody>\n",
       "    <tr>\n",
       "      <th>0</th>\n",
       "      <td>One of the other reviewers has mentioned that ...</td>\n",
       "      <td>1</td>\n",
       "    </tr>\n",
       "    <tr>\n",
       "      <th>1</th>\n",
       "      <td>A wonderful little production. &lt;br /&gt;&lt;br /&gt;The...</td>\n",
       "      <td>1</td>\n",
       "    </tr>\n",
       "    <tr>\n",
       "      <th>2</th>\n",
       "      <td>I thought this was a wonderful way to spend ti...</td>\n",
       "      <td>1</td>\n",
       "    </tr>\n",
       "    <tr>\n",
       "      <th>3</th>\n",
       "      <td>Basically there's a family where a little boy ...</td>\n",
       "      <td>0</td>\n",
       "    </tr>\n",
       "    <tr>\n",
       "      <th>4</th>\n",
       "      <td>Petter Mattei's \"Love in the Time of Money\" is...</td>\n",
       "      <td>1</td>\n",
       "    </tr>\n",
       "  </tbody>\n",
       "</table>\n",
       "</div>"
      ],
      "text/plain": [
       "                                              review  sentiment_num\n",
       "0  One of the other reviewers has mentioned that ...              1\n",
       "1  A wonderful little production. <br /><br />The...              1\n",
       "2  I thought this was a wonderful way to spend ti...              1\n",
       "3  Basically there's a family where a little boy ...              0\n",
       "4  Petter Mattei's \"Love in the Time of Money\" is...              1"
      ]
     },
     "execution_count": 5,
     "metadata": {},
     "output_type": "execute_result"
    }
   ],
   "source": [
    "inputs=df.drop(['sentiment'],axis='columns')\n",
    "inputs.head()"
   ]
  },
  {
   "cell_type": "markdown",
   "id": "c98d52a9",
   "metadata": {},
   "source": [
    "Model development"
   ]
  },
  {
   "cell_type": "code",
   "execution_count": 6,
   "id": "fe4dee53",
   "metadata": {},
   "outputs": [],
   "source": [
    "x_train,x_test,y_train,y_test=train_test_split(inputs.review,inputs.sentiment_num,test_size=0.25)"
   ]
  },
  {
   "cell_type": "code",
   "execution_count": 7,
   "id": "d7f9bc2e",
   "metadata": {},
   "outputs": [
    {
     "data": {
      "text/plain": [
       "<37500x90535 sparse matrix of type '<class 'numpy.int64'>'\n",
       "\twith 5111481 stored elements in Compressed Sparse Row format>"
      ]
     },
     "execution_count": 7,
     "metadata": {},
     "output_type": "execute_result"
    }
   ],
   "source": [
    "v=CountVectorizer()\n",
    "x_train_count=v.fit_transform(x_train.values)\n",
    "x_train_count"
   ]
  },
  {
   "cell_type": "code",
   "execution_count": 8,
   "id": "34cdf00f",
   "metadata": {},
   "outputs": [
    {
     "data": {
      "text/plain": [
       "MultinomialNB()"
      ]
     },
     "execution_count": 8,
     "metadata": {},
     "output_type": "execute_result"
    }
   ],
   "source": [
    "model=MultinomialNB()\n",
    "model.fit(x_train_count,y_train)"
   ]
  },
  {
   "cell_type": "code",
   "execution_count": 9,
   "id": "467eaab8",
   "metadata": {},
   "outputs": [],
   "source": [
    "x_test_count=v.transform(x_test)"
   ]
  },
  {
   "cell_type": "code",
   "execution_count": 10,
   "id": "c11d89e4",
   "metadata": {},
   "outputs": [
    {
     "data": {
      "text/plain": [
       "0.846"
      ]
     },
     "execution_count": 10,
     "metadata": {},
     "output_type": "execute_result"
    }
   ],
   "source": [
    "model.score(x_test_count,y_test)"
   ]
  },
  {
   "cell_type": "code",
   "execution_count": 11,
   "id": "74bc471f",
   "metadata": {},
   "outputs": [
    {
     "data": {
      "text/plain": [
       "0.8884"
      ]
     },
     "execution_count": 11,
     "metadata": {},
     "output_type": "execute_result"
    }
   ],
   "source": [
    "#Logistic regression\n",
    "model1=LogisticRegression(solver='liblinear',random_state=0)\n",
    "model1.fit(x_train_count,y_train)\n",
    "model1.score(x_test_count,y_test)"
   ]
  },
  {
   "cell_type": "code",
   "execution_count": 12,
   "id": "6f2cd7f1",
   "metadata": {},
   "outputs": [
    {
     "data": {
      "text/plain": [
       "0.6516"
      ]
     },
     "execution_count": 12,
     "metadata": {},
     "output_type": "execute_result"
    }
   ],
   "source": [
    "#KNN\n",
    "model2=KNeighborsClassifier(n_neighbors=10)\n",
    "model2.fit(x_train_count,y_train)\n",
    "model2.score(x_test_count,y_test)"
   ]
  },
  {
   "cell_type": "code",
   "execution_count": 13,
   "id": "8df1d512",
   "metadata": {},
   "outputs": [
    {
     "data": {
      "text/plain": [
       "0.85072"
      ]
     },
     "execution_count": 13,
     "metadata": {},
     "output_type": "execute_result"
    }
   ],
   "source": [
    "#Random Forest\n",
    "model3=RandomForestClassifier()\n",
    "model3.fit(x_train_count,y_train)\n",
    "model3.score(x_test_count,y_test)"
   ]
  },
  {
   "cell_type": "code",
   "execution_count": 14,
   "id": "c2f91a56",
   "metadata": {},
   "outputs": [
    {
     "data": {
      "text/plain": [
       "0.71456"
      ]
     },
     "execution_count": 14,
     "metadata": {},
     "output_type": "execute_result"
    }
   ],
   "source": [
    "#Decision Tree\n",
    "model4=tree.DecisionTreeClassifier()\n",
    "model4.fit(x_train_count,y_train)\n",
    "model4.score(x_test_count,y_test)"
   ]
  },
  {
   "cell_type": "code",
   "execution_count": 15,
   "id": "2850745a",
   "metadata": {},
   "outputs": [
    {
     "data": {
      "text/plain": [
       "0.87336"
      ]
     },
     "execution_count": 15,
     "metadata": {},
     "output_type": "execute_result"
    }
   ],
   "source": [
    "#SVM\n",
    "model5=SVC()\n",
    "model5.fit(x_train_count,y_train)\n",
    "model5.score(x_test_count,y_test)"
   ]
  },
  {
   "cell_type": "code",
   "execution_count": 16,
   "id": "94d3b41e",
   "metadata": {},
   "outputs": [],
   "source": [
    "review=['It was boring.',\n",
    "       'I loved it!',\n",
    "       'Wastage of time',\n",
    "        'Amazing',\n",
    "        'Fabulous','Awesome']\n",
    "\n",
    "review_count=v.transform(review)\n",
    "soln=model.predict(review_count)"
   ]
  },
  {
   "cell_type": "code",
   "execution_count": 37,
   "id": "70b9e3e6",
   "metadata": {},
   "outputs": [
    {
     "name": "stdout",
     "output_type": "stream",
     "text": [
      "Negative\n",
      "Positive\n",
      "Negative\n",
      "Positive\n",
      "Positive\n",
      "Positive\n"
     ]
    }
   ],
   "source": [
    "for i in soln:\n",
    "    if i==0:\n",
    "        print(\"Negative\")\n",
    "    else:\n",
    "        print(\"Positive\")"
   ]
  },
  {
   "cell_type": "markdown",
   "id": "d8e27342",
   "metadata": {},
   "source": [
    "Analysis of sentiments based on the best model developed"
   ]
  },
  {
   "cell_type": "code",
   "execution_count": 38,
   "id": "0596b93b",
   "metadata": {},
   "outputs": [],
   "source": [
    "def predict_sentiments(text):\n",
    "    text=[text]\n",
    "    sentiments=v.transform(text)\n",
    "    sen=model1.predict(sentiments)\n",
    "    if sen==0:\n",
    "        return \"Negative\",\"\\U0001F620\"\n",
    "    else:\n",
    "        return \"Positive\",\"\\U0001f600\""
   ]
  },
  {
   "cell_type": "code",
   "execution_count": 34,
   "id": "dc90e32b",
   "metadata": {},
   "outputs": [
    {
     "name": "stdout",
     "output_type": "stream",
     "text": [
      "('Positive', '😀')\n"
     ]
    }
   ],
   "source": [
    "print(predict_sentiments(\"I loved it!\"))"
   ]
  },
  {
   "cell_type": "code",
   "execution_count": 40,
   "id": "11808ce6",
   "metadata": {},
   "outputs": [
    {
     "name": "stdout",
     "output_type": "stream",
     "text": [
      "('Negative', '😠')\n"
     ]
    }
   ],
   "source": [
    "print(predict_sentiments('It was boring.'))"
   ]
  },
  {
   "cell_type": "code",
   "execution_count": null,
   "id": "f20cd554",
   "metadata": {},
   "outputs": [],
   "source": []
  }
 ],
 "metadata": {
  "kernelspec": {
   "display_name": "Python 3",
   "language": "python",
   "name": "python3"
  },
  "language_info": {
   "codemirror_mode": {
    "name": "ipython",
    "version": 3
   },
   "file_extension": ".py",
   "mimetype": "text/x-python",
   "name": "python",
   "nbconvert_exporter": "python",
   "pygments_lexer": "ipython3",
   "version": "3.8.8"
  }
 },
 "nbformat": 4,
 "nbformat_minor": 5
}
